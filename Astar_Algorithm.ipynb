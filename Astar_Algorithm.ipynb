{
 "cells": [
  {
   "cell_type": "code",
   "execution_count": 12,
   "metadata": {
    "button": false,
    "collapsed": true,
    "deletable": true,
    "new_sheet": false,
    "run_control": {
     "read_only": false
    }
   },
   "outputs": [],
   "source": [
    "import pandas as pd\n",
    "covid19 = pd.read_csv(\"/Users/sameeraturupu/Downloads/Safest-path-through-corona-affected-regions-master/Counties_info.csv\")"
   ]
  },
  {
   "cell_type": "code",
   "execution_count": 13,
   "metadata": {
    "button": false,
    "collapsed": false,
    "deletable": true,
    "new_sheet": false,
    "run_control": {
     "read_only": false
    }
   },
   "outputs": [
    {
     "data": {
      "text/html": [
       "<div>\n",
       "<style scoped>\n",
       "    .dataframe tbody tr th:only-of-type {\n",
       "        vertical-align: middle;\n",
       "    }\n",
       "\n",
       "    .dataframe tbody tr th {\n",
       "        vertical-align: top;\n",
       "    }\n",
       "\n",
       "    .dataframe thead th {\n",
       "        text-align: right;\n",
       "    }\n",
       "</style>\n",
       "<table border=\"1\" class=\"dataframe\">\n",
       "  <thead>\n",
       "    <tr style=\"text-align: right;\">\n",
       "      <th></th>\n",
       "      <th>Source</th>\n",
       "      <th>Destination</th>\n",
       "      <th>Time</th>\n",
       "      <th>Confirmed</th>\n",
       "      <th>2019 Census</th>\n",
       "    </tr>\n",
       "  </thead>\n",
       "  <tbody>\n",
       "    <tr>\n",
       "      <th>0</th>\n",
       "      <td>Clayton</td>\n",
       "      <td>Dekalb</td>\n",
       "      <td>26</td>\n",
       "      <td>869</td>\n",
       "      <td>292,256</td>\n",
       "    </tr>\n",
       "    <tr>\n",
       "      <th>1</th>\n",
       "      <td>Clayton</td>\n",
       "      <td>Fayette</td>\n",
       "      <td>22</td>\n",
       "      <td>99</td>\n",
       "      <td>114,421</td>\n",
       "    </tr>\n",
       "    <tr>\n",
       "      <th>2</th>\n",
       "      <td>Clayton</td>\n",
       "      <td>Fulton</td>\n",
       "      <td>26</td>\n",
       "      <td>1467</td>\n",
       "      <td>1,063,937</td>\n",
       "    </tr>\n",
       "    <tr>\n",
       "      <th>3</th>\n",
       "      <td>Clayton</td>\n",
       "      <td>Henry</td>\n",
       "      <td>27</td>\n",
       "      <td>260</td>\n",
       "      <td>234,561</td>\n",
       "    </tr>\n",
       "    <tr>\n",
       "      <th>4</th>\n",
       "      <td>Cobb</td>\n",
       "      <td>Douglas</td>\n",
       "      <td>30</td>\n",
       "      <td>153</td>\n",
       "      <td>146,343</td>\n",
       "    </tr>\n",
       "  </tbody>\n",
       "</table>\n",
       "</div>"
      ],
      "text/plain": [
       "    Source Destination  Time  Confirmed 2019 Census\n",
       "0  Clayton      Dekalb    26        869     292,256\n",
       "1  Clayton     Fayette    22         99     114,421\n",
       "2  Clayton      Fulton    26       1467   1,063,937\n",
       "3  Clayton       Henry    27        260     234,561\n",
       "4     Cobb     Douglas    30        153     146,343"
      ]
     },
     "execution_count": 13,
     "metadata": {},
     "output_type": "execute_result"
    }
   ],
   "source": [
    "covid19.head()"
   ]
  },
  {
   "cell_type": "code",
   "execution_count": 191,
   "metadata": {
    "button": false,
    "collapsed": true,
    "deletable": true,
    "new_sheet": false,
    "run_control": {
     "read_only": false
    }
   },
   "outputs": [],
   "source": [
    "input_dict = {}\n",
    "for src in covid19['Source']:  \n",
    "    input_dict[src.lower()] = []\n",
    "    \n",
    "import math\n",
    "\n",
    "for key in input_dict:\n",
    "    for src,dest,time,conf,census in zip(covid19['Source'],covid19['Destination'],covid19['Time'],covid19['Confirmed'],covid19['2019 Census']):\n",
    "        if(key == src.lower()):\n",
    "            input_dict[key].append((dest.lower(),round(int(time)*(int(conf)/int(census.replace(',','')))*1000)))"
   ]
  },
  {
   "cell_type": "code",
   "execution_count": 192,
   "metadata": {
    "button": false,
    "collapsed": false,
    "deletable": true,
    "new_sheet": false,
    "run_control": {
     "read_only": false
    }
   },
   "outputs": [
    {
     "name": "stdout",
     "output_type": "stream",
     "text": [
      "{'clayton': [('dekalb', 77), ('fayette', 19), ('fulton', 36), ('henry', 30)], 'cobb': [('douglas', 31), ('fulton', 36)], 'coweta': [('fayette', 22), ('fulton', 66)], 'dekalb': [('clayton', 33), ('gwinnett', 19), ('fulton', 33), ('henry', 43)], 'douglas': [('cobb', 28), ('fulton', 41)], 'fulton': [('clayton', 32), ('cobb', 24), ('coweta', 33), ('dekalb', 71), ('douglas', 31), ('fayette', 36), ('gwinnett', 24)], 'gwinnett': [('dekalb', 77), ('fulton', 44)], 'fayette': [('clayton', 27), ('fulton', 58), ('coweta', 18)], 'henry': [('clayton', 33), ('dekalb', 116)]}\n"
     ]
    }
   ],
   "source": [
    "print(input_dict)"
   ]
  },
  {
   "cell_type": "code",
   "execution_count": 73,
   "metadata": {
    "button": false,
    "collapsed": true,
    "deletable": true,
    "new_sheet": false,
    "run_control": {
     "read_only": false
    }
   },
   "outputs": [],
   "source": [
    "h_org = {}\n",
    "for dest, conf, census in zip (covid19['Destination'],covid19['Confirmed'],covid19['2019 Census']):\n",
    "    h_org[dest.lower()] = round((int(conf)/int(census.replace(',','')))*1000)"
   ]
  },
  {
   "cell_type": "code",
   "execution_count": 74,
   "metadata": {
    "button": false,
    "collapsed": false,
    "deletable": true,
    "new_sheet": false,
    "run_control": {
     "read_only": false
    }
   },
   "outputs": [
    {
     "data": {
      "text/plain": [
       "{'dekalb': 3,\n",
       " 'fayette': 1,\n",
       " 'fulton': 1,\n",
       " 'henry': 1,\n",
       " 'douglas': 1,\n",
       " 'clayton': 1,\n",
       " 'gwinnett': 1,\n",
       " 'cobb': 1,\n",
       " 'coweta': 1}"
      ]
     },
     "execution_count": 74,
     "metadata": {},
     "output_type": "execute_result"
    }
   ],
   "source": [
    "h_org"
   ]
  },
  {
   "cell_type": "code",
   "execution_count": 66,
   "metadata": {
    "button": false,
    "collapsed": false,
    "deletable": true,
    "new_sheet": false,
    "run_control": {
     "read_only": false
    }
   },
   "outputs": [
    {
     "name": "stdout",
     "output_type": "stream",
     "text": [
      "         FIPS     Admin2  Province_State      Country_Region  \\\n",
      "0     45001.0  Abbeville  South Carolina                  US   \n",
      "1     22001.0     Acadia       Louisiana                  US   \n",
      "2     51001.0   Accomack        Virginia                  US   \n",
      "3     16001.0        Ada           Idaho                  US   \n",
      "4     19001.0      Adair            Iowa                  US   \n",
      "...       ...        ...             ...                 ...   \n",
      "3040      NaN        NaN             NaN  West Bank and Gaza   \n",
      "3041      NaN        NaN             NaN      Western Sahara   \n",
      "3042      NaN        NaN             NaN               Yemen   \n",
      "3043      NaN        NaN             NaN              Zambia   \n",
      "3044      NaN        NaN             NaN            Zimbabwe   \n",
      "\n",
      "              Last_Update        Lat       Long_  Confirmed  Deaths  \\\n",
      "0     2020-04-17 23:30:52  34.223334  -82.461707         10       0   \n",
      "1     2020-04-17 23:30:52  30.295065  -92.414197        110       6   \n",
      "2     2020-04-17 23:30:52  37.767072  -75.632346         28       0   \n",
      "3     2020-04-17 23:30:52  43.452658 -116.241552        576       9   \n",
      "4     2020-04-17 23:30:52  41.330756  -94.471059          1       0   \n",
      "...                   ...        ...         ...        ...     ...   \n",
      "3040  2020-04-17 23:30:32  31.952200   35.233200        402       2   \n",
      "3041  2020-04-17 23:30:32  24.215500  -12.885800          6       0   \n",
      "3042  2020-04-17 23:30:32  15.552727   48.516388          1       0   \n",
      "3043  2020-04-17 23:30:32 -13.133897   27.849332         52       2   \n",
      "3044  2020-04-17 23:30:32 -19.015438   29.154857         24       3   \n",
      "\n",
      "      Recovered  Active                   Combined_Key  \n",
      "0             0      10  Abbeville, South Carolina, US  \n",
      "1             0     104          Acadia, Louisiana, US  \n",
      "2             0      28         Accomack, Virginia, US  \n",
      "3             0     567                 Ada, Idaho, US  \n",
      "4             0       1                Adair, Iowa, US  \n",
      "...         ...     ...                            ...  \n",
      "3040         69     331             West Bank and Gaza  \n",
      "3041          0       6                 Western Sahara  \n",
      "3042          0       1                          Yemen  \n",
      "3043         30      20                         Zambia  \n",
      "3044          2      19                       Zimbabwe  \n",
      "\n",
      "[3045 rows x 12 columns]\n"
     ]
    }
   ],
   "source": [
    "import io\n",
    "import requests\n",
    "url=\"https://raw.githubusercontent.com/CSSEGISandData/COVID-19/master/csse_covid_19_data/csse_covid_19_daily_reports/04-17-2020.csv\"\n",
    "s=requests.get(url).content\n",
    "c=pd.read_csv(io.StringIO(s.decode('utf-8')))\n",
    "print(c)"
   ]
  },
  {
   "cell_type": "code",
   "execution_count": 181,
   "metadata": {
    "button": false,
    "collapsed": true,
    "deletable": true,
    "new_sheet": false,
    "run_control": {
     "read_only": false
    }
   },
   "outputs": [],
   "source": [
    "h1_intial = {}\n",
    "for county, state, confirmed in zip(c['Admin2'], c['Province_State'], c['Confirmed']):\n",
    "    if (state == 'Georgia'):\n",
    "        if county.lower() in h_org:\n",
    "            h1_intial[county.lower()] = confirmed"
   ]
  },
  {
   "cell_type": "code",
   "execution_count": 182,
   "metadata": {
    "button": false,
    "collapsed": false,
    "deletable": true,
    "new_sheet": false,
    "run_control": {
     "read_only": false
    }
   },
   "outputs": [
    {
     "data": {
      "text/plain": [
       "{'clayton': 491,\n",
       " 'cobb': 1072,\n",
       " 'coweta': 149,\n",
       " 'dekalb': 1349,\n",
       " 'douglas': 220,\n",
       " 'fayette': 133,\n",
       " 'fulton': 2025,\n",
       " 'gwinnett': 1017,\n",
       " 'henry': 344}"
      ]
     },
     "execution_count": 182,
     "metadata": {},
     "output_type": "execute_result"
    }
   ],
   "source": [
    "h1_intial"
   ]
  },
  {
   "cell_type": "code",
   "execution_count": 183,
   "metadata": {
    "button": false,
    "collapsed": false,
    "deletable": true,
    "new_sheet": false,
    "run_control": {
     "read_only": false
    }
   },
   "outputs": [
    {
     "name": "stdout",
     "output_type": "stream",
     "text": [
      "{'dekalb': 5, 'fayette': 1, 'fulton': 2, 'henry': 1, 'douglas': 2, 'clayton': 2, 'gwinnett': 1, 'cobb': 1, 'coweta': 1}\n"
     ]
    }
   ],
   "source": [
    "h1 = {}\n",
    "for county, census in zip(covid19['Destination'],covid19['2019 Census']):\n",
    "    val = round((int(h1_intial[county.lower()])/int(census.replace(',','')))* 1000)\n",
    "    if h1_intial[county.lower()] not in h1:\n",
    "        h1[county.lower()] = val\n",
    "print(h1)"
   ]
  },
  {
   "cell_type": "code",
   "execution_count": 184,
   "metadata": {
    "button": false,
    "collapsed": false,
    "deletable": true,
    "new_sheet": false,
    "run_control": {
     "read_only": false
    }
   },
   "outputs": [
    {
     "data": {
      "text/plain": [
       "{'dekalb': 5,\n",
       " 'fayette': 1,\n",
       " 'fulton': 2,\n",
       " 'henry': 1,\n",
       " 'douglas': 2,\n",
       " 'clayton': 2,\n",
       " 'gwinnett': 1,\n",
       " 'cobb': 1,\n",
       " 'coweta': 1}"
      ]
     },
     "execution_count": 184,
     "metadata": {},
     "output_type": "execute_result"
    }
   ],
   "source": [
    "h1"
   ]
  },
  {
   "cell_type": "code",
   "execution_count": null,
   "metadata": {
    "button": false,
    "collapsed": true,
    "deletable": true,
    "new_sheet": false,
    "run_control": {
     "read_only": false
    }
   },
   "outputs": [],
   "source": [
    "graph1 = Graph(adjacency_list)\n",
    "graph1.a_star_algorithm('A', 'D')"
   ]
  },
  {
   "cell_type": "code",
   "execution_count": 198,
   "metadata": {
    "button": false,
    "collapsed": true,
    "deletable": true,
    "new_sheet": false,
    "run_control": {
     "read_only": false
    }
   },
   "outputs": [],
   "source": [
    "import time\n",
    "from collections import deque\n",
    "\n",
    "class Graph:\n",
    "    # example of adjacency list (or rather map)\n",
    "    # adjacency_list = {\n",
    "    # 'A': [('B', 1), ('C', 3), ('D', 7)],\n",
    "    # 'B': [('D', 5)],\n",
    "    # 'C': [('D', 12)]\n",
    "    # }\n",
    "\n",
    "    def __init__(self, adjacency_list):\n",
    "        self.adjacency_list = adjacency_list\n",
    "\n",
    "    def get_neighbors(self, v):\n",
    "        return self.adjacency_list[v]\n",
    "\n",
    "    # heuristic function with equal values for all nodes\n",
    "    def h(self, n, H):\n",
    "        return H[n]\n",
    "\n",
    "    def a_star_algorithm(self, start_node, stop_node):\n",
    "        # open_list is a list of nodes which have been visited, but who's neighbors\n",
    "        # haven't all been inspected, starts off with the start node\n",
    "        # closed_list is a list of nodes which have been visited\n",
    "        # and who's neighbors have been inspected\n",
    "        open_list = set([start_node])\n",
    "        closed_list = set([])\n",
    "\n",
    "        # g contains current distances from start_node to all other nodes\n",
    "        # the default value (if it's not found in the map) is +infinity\n",
    "        g = {}\n",
    "        H = h_org\n",
    "        g[start_node] = 0\n",
    "\n",
    "        # parents contains an adjacency map of all nodes\n",
    "        parents = {}\n",
    "        parents[start_node] = start_node\n",
    "        while len(open_list) > 0:\n",
    "            n = None\n",
    "            n1 = None\n",
    "            # find a node with the lowest value of f() - evaluation function\n",
    "            for v in open_list:\n",
    "                if n == None or g[v] + self.h(v, H) < g[n] + self.h(n, H):\n",
    "                    n = v;\n",
    "            H = h1\n",
    "            if n == None:\n",
    "                print('Path does not exist!')\n",
    "                return None\n",
    "            # if the current node is the stop_node\n",
    "            # then we begin reconstructin the path from it to the start_node\n",
    "            if n == stop_node:\n",
    "                reconst_path = []\n",
    "\n",
    "                while parents[n] != n:\n",
    "                    reconst_path.append(n)\n",
    "                    n = parents[n]\n",
    "\n",
    "                reconst_path.append(start_node)\n",
    "\n",
    "                reconst_path.reverse()\n",
    "\n",
    "                print('Path found: {}'.format(reconst_path))\n",
    "                return reconst_path\n",
    "\n",
    "            # for all neighbors of the current node do\n",
    "            for (m, weight) in self.get_neighbors(n):\n",
    "                # if the current node isn't in both open_list and closed_list\n",
    "                # add it to open_list and note n as it's parent\n",
    "                if m not in open_list and m not in closed_list:\n",
    "                    open_list.add(m)\n",
    "                    parents[m] = n\n",
    "                    g[m] = g[n] + weight\n",
    "                # otherwise, check if it's quicker to first visit n, then m\n",
    "                # and if it is, update parent data and g data\n",
    "                # and if the node was in the closed_list, move it to open_list\n",
    "                else:\n",
    "                    if g[m] > g[n] + weight:\n",
    "                        g[m] = g[n] + weight\n",
    "                        parents[m] = n\n",
    "\n",
    "                        if m in closed_list:\n",
    "                            closed_list.remove(m)\n",
    "                            open_list.add(m)\n",
    "\n",
    "            # remove n from the open_list, and add it to closed_list\n",
    "            # because all of his neighbors were inspected\n",
    "            open_list.remove(n)\n",
    "            closed_list.add(n)\n",
    "        print('Path does not exist!')\n",
    "        return None"
   ]
  },
  {
   "cell_type": "code",
   "execution_count": 199,
   "metadata": {
    "button": false,
    "collapsed": false,
    "deletable": true,
    "new_sheet": false,
    "run_control": {
     "read_only": false
    }
   },
   "outputs": [
    {
     "name": "stdout",
     "output_type": "stream",
     "text": [
      "Path found: ['cobb', 'fulton', 'clayton', 'henry']\n"
     ]
    },
    {
     "data": {
      "text/plain": [
       "['cobb', 'fulton', 'clayton', 'henry']"
      ]
     },
     "execution_count": 199,
     "metadata": {},
     "output_type": "execute_result"
    }
   ],
   "source": [
    "graph1 = Graph(input_dict)\n",
    "graph1.a_star_algorithm('cobb', 'henry')"
   ]
  },
  {
   "cell_type": "code",
   "execution_count": null,
   "metadata": {
    "button": false,
    "collapsed": true,
    "deletable": true,
    "new_sheet": false,
    "run_control": {
     "read_only": false
    }
   },
   "outputs": [],
   "source": []
  }
 ],
 "metadata": {
  "kernelspec": {
   "display_name": "Python 3",
   "language": "python",
   "name": "python3"
  },
  "language_info": {
   "codemirror_mode": {
    "name": "ipython",
    "version": 3
   },
   "file_extension": ".py",
   "mimetype": "text/x-python",
   "name": "python",
   "nbconvert_exporter": "python",
   "pygments_lexer": "ipython3",
   "version": "3.5.0"
  }
 },
 "nbformat": 4,
 "nbformat_minor": 4
}
