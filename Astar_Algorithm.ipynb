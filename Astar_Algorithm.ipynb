{
 "cells": [
  {
   "cell_type": "code",
   "execution_count": 121,
   "metadata": {
    "button": false,
    "new_sheet": false,
    "run_control": {
     "read_only": false
    }
   },
   "outputs": [],
   "source": [
    "import pandas as pd\n",
    "import random\n",
    "import math\n",
    "import io\n",
    "import requests\n",
    "import datetime\n",
    "import time\n",
    "from collections import deque"
   ]
  },
  {
   "cell_type": "code",
   "execution_count": 105,
   "metadata": {},
   "outputs": [],
   "source": [
    "covid19 = pd.read_csv(\"/Users/sameeraturupu/Downloads/Safest-path-through-corona-affected-regions-master/Counties_info.csv\")\n",
    "# covid19 = pd.read_csv(\"Counties_info.csv\")"
   ]
  },
  {
   "cell_type": "code",
   "execution_count": 106,
   "metadata": {
    "button": false,
    "new_sheet": false,
    "run_control": {
     "read_only": false
    }
   },
   "outputs": [
    {
     "data": {
      "text/html": [
       "<div>\n",
       "<style scoped>\n",
       "    .dataframe tbody tr th:only-of-type {\n",
       "        vertical-align: middle;\n",
       "    }\n",
       "\n",
       "    .dataframe tbody tr th {\n",
       "        vertical-align: top;\n",
       "    }\n",
       "\n",
       "    .dataframe thead th {\n",
       "        text-align: right;\n",
       "    }\n",
       "</style>\n",
       "<table border=\"1\" class=\"dataframe\">\n",
       "  <thead>\n",
       "    <tr style=\"text-align: right;\">\n",
       "      <th></th>\n",
       "      <th>Source</th>\n",
       "      <th>Destination</th>\n",
       "      <th>Time</th>\n",
       "      <th>Confirmed</th>\n",
       "      <th>2019 Census</th>\n",
       "    </tr>\n",
       "  </thead>\n",
       "  <tbody>\n",
       "    <tr>\n",
       "      <td>0</td>\n",
       "      <td>Clayton</td>\n",
       "      <td>Dekalb</td>\n",
       "      <td>26</td>\n",
       "      <td>869</td>\n",
       "      <td>292,256</td>\n",
       "    </tr>\n",
       "    <tr>\n",
       "      <td>1</td>\n",
       "      <td>Clayton</td>\n",
       "      <td>Fayette</td>\n",
       "      <td>22</td>\n",
       "      <td>99</td>\n",
       "      <td>114,421</td>\n",
       "    </tr>\n",
       "    <tr>\n",
       "      <td>2</td>\n",
       "      <td>Clayton</td>\n",
       "      <td>Fulton</td>\n",
       "      <td>26</td>\n",
       "      <td>1467</td>\n",
       "      <td>1,063,937</td>\n",
       "    </tr>\n",
       "    <tr>\n",
       "      <td>3</td>\n",
       "      <td>Clayton</td>\n",
       "      <td>Henry</td>\n",
       "      <td>27</td>\n",
       "      <td>260</td>\n",
       "      <td>234,561</td>\n",
       "    </tr>\n",
       "    <tr>\n",
       "      <td>4</td>\n",
       "      <td>Cobb</td>\n",
       "      <td>Douglas</td>\n",
       "      <td>30</td>\n",
       "      <td>153</td>\n",
       "      <td>146,343</td>\n",
       "    </tr>\n",
       "  </tbody>\n",
       "</table>\n",
       "</div>"
      ],
      "text/plain": [
       "    Source Destination  Time  Confirmed 2019 Census\n",
       "0  Clayton      Dekalb    26        869     292,256\n",
       "1  Clayton     Fayette    22         99     114,421\n",
       "2  Clayton      Fulton    26       1467   1,063,937\n",
       "3  Clayton       Henry    27        260     234,561\n",
       "4     Cobb     Douglas    30        153     146,343"
      ]
     },
     "execution_count": 106,
     "metadata": {},
     "output_type": "execute_result"
    }
   ],
   "source": [
    "covid19.head()"
   ]
  },
  {
   "cell_type": "markdown",
   "metadata": {},
   "source": [
    "# Preparing the input dictionary for A* algorithm with neighbor and time information"
   ]
  },
  {
   "cell_type": "code",
   "execution_count": 107,
   "metadata": {
    "button": false,
    "new_sheet": false,
    "run_control": {
     "read_only": false
    }
   },
   "outputs": [],
   "source": [
    "input_dict = {}\n",
    "for src in covid19['Source']:  \n",
    "    input_dict[src.lower()] = []\n",
    "    \n",
    "\n",
    "for key in input_dict:\n",
    "    for src,dest,time,conf,census in zip(covid19['Source'],covid19['Destination'],covid19['Time'],covid19['Confirmed'],covid19['2019 Census']):\n",
    "        if(key == src.lower()):\n",
    "            input_dict[key].append((dest.lower(),round(int(time)*(int(conf)/int(census.replace(',','')))*1000)))"
   ]
  },
  {
   "cell_type": "code",
   "execution_count": 108,
   "metadata": {
    "button": false,
    "new_sheet": false,
    "run_control": {
     "read_only": false
    }
   },
   "outputs": [
    {
     "name": "stdout",
     "output_type": "stream",
     "text": [
      "{'clayton': [('dekalb', 77), ('fayette', 19), ('fulton', 36), ('henry', 30)], 'cobb': [('douglas', 31), ('fulton', 36)], 'coweta': [('fayette', 22), ('fulton', 66)], 'dekalb': [('clayton', 33), ('gwinnett', 19), ('fulton', 33), ('henry', 43)], 'douglas': [('cobb', 28), ('fulton', 41)], 'fulton': [('clayton', 32), ('cobb', 24), ('coweta', 33), ('dekalb', 71), ('douglas', 31), ('fayette', 36), ('gwinnett', 24)], 'gwinnett': [('dekalb', 77), ('fulton', 44)], 'fayette': [('clayton', 27), ('fulton', 58), ('coweta', 18)], 'henry': [('clayton', 33), ('dekalb', 116)]}\n"
     ]
    }
   ],
   "source": [
    "print(input_dict)"
   ]
  },
  {
   "cell_type": "markdown",
   "metadata": {},
   "source": [
    "# Heuristic information for each county"
   ]
  },
  {
   "cell_type": "code",
   "execution_count": 109,
   "metadata": {
    "button": false,
    "new_sheet": false,
    "run_control": {
     "read_only": false
    }
   },
   "outputs": [],
   "source": [
    "h_org = {}\n",
    "for dest, conf, census in zip (covid19['Destination'],covid19['Confirmed'],covid19['2019 Census']):\n",
    "    h_org[dest.lower()] = round((int(conf)/int(census.replace(',','')))*1000)"
   ]
  },
  {
   "cell_type": "code",
   "execution_count": 110,
   "metadata": {
    "button": false,
    "new_sheet": false,
    "run_control": {
     "read_only": false
    }
   },
   "outputs": [
    {
     "data": {
      "text/plain": [
       "{'dekalb': 3,\n",
       " 'fayette': 1,\n",
       " 'fulton': 1,\n",
       " 'henry': 1,\n",
       " 'douglas': 1,\n",
       " 'clayton': 1,\n",
       " 'gwinnett': 1,\n",
       " 'cobb': 1,\n",
       " 'coweta': 1}"
      ]
     },
     "execution_count": 110,
     "metadata": {},
     "output_type": "execute_result"
    }
   ],
   "source": [
    "h_org"
   ]
  },
  {
   "cell_type": "markdown",
   "metadata": {},
   "source": [
    "# Getting most recent(5 days) COVID-19 information "
   ]
  },
  {
   "cell_type": "code",
   "execution_count": 111,
   "metadata": {},
   "outputs": [
    {
     "name": "stdout",
     "output_type": "stream",
     "text": [
      "['04-13-2020', '04-14-2020', '04-15-2020', '04-16-2020', '04-17-2020']\n"
     ]
    }
   ],
   "source": [
    "today = datetime.date.today().strftime('%m/%d/%Y')\n",
    "\n",
    "date_1 = datetime.datetime.strptime(str(today), \"%m/%d/%Y\")\n",
    "start_date = date_1 + datetime.timedelta(days=-6)\n",
    "end_date = date_1 + datetime.timedelta(days=-1)\n",
    "\n",
    "start_date = start_date.strftime('%Y-%m-%d')\n",
    "end_date = end_date.strftime('%Y-%m-%d')\n",
    "\n",
    "start = datetime.datetime.strptime(start_date, \"%Y-%m-%d\")\n",
    "end = datetime.datetime.strptime(end_date, \"%Y-%m-%d\")\n",
    "date_array = (start + datetime.timedelta(days=x) for x in range(0, (end - start).days))\n",
    "dates = []\n",
    "for date_object in date_array:\n",
    "    dates.append(str(date_object.strftime(\"%m-%d-%Y\")))\n",
    "print(dates)"
   ]
  },
  {
   "cell_type": "code",
   "execution_count": 112,
   "metadata": {
    "button": false,
    "new_sheet": false,
    "run_control": {
     "read_only": false
    }
   },
   "outputs": [],
   "source": [
    "url=\"https://raw.githubusercontent.com/CSSEGISandData/COVID-19/master/csse_covid_19_data/csse_covid_19_daily_reports/\"\n",
    "c = []\n",
    "for date in dates:\n",
    "    s = requests.get(url + date + \".csv\").content\n",
    "    c.append(pd.read_csv(io.StringIO(s.decode('utf-8'))))"
   ]
  },
  {
   "cell_type": "markdown",
   "metadata": {},
   "source": [
    "# Heuristics for most recent COVID-19 information"
   ]
  },
  {
   "cell_type": "code",
   "execution_count": 113,
   "metadata": {
    "button": false,
    "new_sheet": false,
    "run_control": {
     "read_only": false
    }
   },
   "outputs": [],
   "source": [
    "h_upt = []\n",
    "h1_intial = {}\n",
    "for i in range(len(c)): \n",
    "    for county, state, confirmed in zip(c[i]['Admin2'], c[i]['Province_State'], c[i]['Confirmed']):\n",
    "        if (state == 'Georgia'):\n",
    "            if county.lower() in h_org:\n",
    "                h1_intial[county.lower()] = confirmed\n",
    "    h_upt.append(h1_intial)\n",
    "    h1_intial = {}"
   ]
  },
  {
   "cell_type": "code",
   "execution_count": 114,
   "metadata": {
    "button": false,
    "new_sheet": false,
    "run_control": {
     "read_only": false
    }
   },
   "outputs": [
    {
     "data": {
      "text/plain": [
       "[{'clayton': 391,\n",
       "  'cobb': 782,\n",
       "  'coweta': 119,\n",
       "  'dekalb': 980,\n",
       "  'douglas': 167,\n",
       "  'fayette': 105,\n",
       "  'fulton': 1598,\n",
       "  'gwinnett': 739,\n",
       "  'henry': 280},\n",
       " {'clayton': 435,\n",
       "  'cobb': 895,\n",
       "  'coweta': 135,\n",
       "  'dekalb': 1144,\n",
       "  'douglas': 189,\n",
       "  'fayette': 115,\n",
       "  'fulton': 1812,\n",
       "  'gwinnett': 815,\n",
       "  'henry': 306},\n",
       " {'clayton': 456,\n",
       "  'cobb': 924,\n",
       "  'coweta': 136,\n",
       "  'dekalb': 1191,\n",
       "  'douglas': 197,\n",
       "  'fayette': 120,\n",
       "  'fulton': 1844,\n",
       "  'gwinnett': 852,\n",
       "  'henry': 321},\n",
       " {'clayton': 468,\n",
       "  'cobb': 990,\n",
       "  'coweta': 140,\n",
       "  'dekalb': 1247,\n",
       "  'douglas': 202,\n",
       "  'fayette': 124,\n",
       "  'fulton': 1929,\n",
       "  'gwinnett': 896,\n",
       "  'henry': 330},\n",
       " {'clayton': 491,\n",
       "  'cobb': 1072,\n",
       "  'coweta': 149,\n",
       "  'dekalb': 1349,\n",
       "  'douglas': 220,\n",
       "  'fayette': 133,\n",
       "  'fulton': 2025,\n",
       "  'gwinnett': 1017,\n",
       "  'henry': 344}]"
      ]
     },
     "execution_count": 114,
     "metadata": {},
     "output_type": "execute_result"
    }
   ],
   "source": [
    "h_upt"
   ]
  },
  {
   "cell_type": "code",
   "execution_count": 115,
   "metadata": {
    "button": false,
    "new_sheet": false,
    "run_control": {
     "read_only": false
    }
   },
   "outputs": [],
   "source": [
    "heuristic_list = []\n",
    "heuristic_dict = {}\n",
    "for heuristic in h_upt:\n",
    "    for county, census in zip(covid19['Destination'],covid19['2019 Census']):\n",
    "        val = round((int(heuristic[county.lower()])/int(census.replace(',','')))* 1000)\n",
    "        if heuristic[county.lower()] not in heuristic_dict:\n",
    "            heuristic_dict[county.lower()] = val\n",
    "    heuristic_list.append(heuristic_dict)\n",
    "    heuristic_dict = {}"
   ]
  },
  {
   "cell_type": "code",
   "execution_count": 116,
   "metadata": {
    "button": false,
    "new_sheet": false,
    "run_control": {
     "read_only": false
    }
   },
   "outputs": [
    {
     "data": {
      "text/plain": [
       "[{'dekalb': 3,\n",
       "  'fayette': 1,\n",
       "  'fulton': 2,\n",
       "  'henry': 1,\n",
       "  'douglas': 1,\n",
       "  'clayton': 1,\n",
       "  'gwinnett': 1,\n",
       "  'cobb': 1,\n",
       "  'coweta': 1},\n",
       " {'dekalb': 4,\n",
       "  'fayette': 1,\n",
       "  'fulton': 2,\n",
       "  'henry': 1,\n",
       "  'douglas': 1,\n",
       "  'clayton': 1,\n",
       "  'gwinnett': 1,\n",
       "  'cobb': 1,\n",
       "  'coweta': 1},\n",
       " {'dekalb': 4,\n",
       "  'fayette': 1,\n",
       "  'fulton': 2,\n",
       "  'henry': 1,\n",
       "  'douglas': 1,\n",
       "  'clayton': 2,\n",
       "  'gwinnett': 1,\n",
       "  'cobb': 1,\n",
       "  'coweta': 1},\n",
       " {'dekalb': 4,\n",
       "  'fayette': 1,\n",
       "  'fulton': 2,\n",
       "  'henry': 1,\n",
       "  'douglas': 1,\n",
       "  'clayton': 2,\n",
       "  'gwinnett': 1,\n",
       "  'cobb': 1,\n",
       "  'coweta': 1},\n",
       " {'dekalb': 5,\n",
       "  'fayette': 1,\n",
       "  'fulton': 2,\n",
       "  'henry': 1,\n",
       "  'douglas': 2,\n",
       "  'clayton': 2,\n",
       "  'gwinnett': 1,\n",
       "  'cobb': 1,\n",
       "  'coweta': 1}]"
      ]
     },
     "execution_count": 116,
     "metadata": {},
     "output_type": "execute_result"
    }
   ],
   "source": [
    "heuristic_list"
   ]
  },
  {
   "cell_type": "markdown",
   "metadata": {},
   "source": [
    "# Working of A* Algorithm"
   ]
  },
  {
   "cell_type": "code",
   "execution_count": 124,
   "metadata": {
    "button": false,
    "new_sheet": false,
    "run_control": {
     "read_only": false
    }
   },
   "outputs": [],
   "source": [
    "class Graph:\n",
    "    # example of adjacency list (or rather map)\n",
    "    # adjacency_list = {\n",
    "    # 'A': [('B', 1), ('C', 3), ('D', 7)],\n",
    "    # 'B': [('D', 5)],\n",
    "    # 'C': [('D', 12)]\n",
    "    # }\n",
    "\n",
    "    def __init__(self, adjacency_list):\n",
    "        self.adjacency_list = adjacency_list\n",
    "\n",
    "    def get_neighbors(self, v):\n",
    "        return self.adjacency_list[v]\n",
    "\n",
    "    # heuristic function with equal values for all nodes\n",
    "    def h(self, n, H):\n",
    "        return H[n]\n",
    "\n",
    "    def a_star_algorithm(self, start_node, stop_node):\n",
    "        # open_list is a list of nodes which have been visited, but who's neighbors\n",
    "        # haven't all been inspected, starts off with the start node\n",
    "        # closed_list is a list of nodes which have been visited\n",
    "        # and who's neighbors have been inspected\n",
    "        open_list = {start_node}\n",
    "        closed_list = set([])\n",
    "\n",
    "        # g contains current distances from start_node to all other nodes\n",
    "        # the default value (if it's not found in the map) is +infinity\n",
    "        g = {}\n",
    "        H = h_org\n",
    "        g[start_node] = 0\n",
    "\n",
    "        # parents contains an adjacency map of all nodes\n",
    "        parents = {start_node: start_node}\n",
    "        \n",
    "        while len(open_list) > 0:\n",
    "            n = None\n",
    "            n1 = None\n",
    "            # find a node with the lowest value of f() - evaluation function\n",
    "            for v in open_list:\n",
    "                if n is None or g[v] + self.h(v, H) < g[n] + self.h(n, H):\n",
    "                    n = v;\n",
    "            H = random.choice(heuristic_list)\n",
    "            if n is None:\n",
    "                print('Path does not exist!')\n",
    "                return None\n",
    "            # if the current node is the stop_node\n",
    "            # then we begin reconstructin the path from it to the start_node\n",
    "            if n == stop_node:\n",
    "                reconst_path = []\n",
    "\n",
    "                while parents[n] != n:\n",
    "                    reconst_path.append(n)\n",
    "                    n = parents[n]\n",
    "\n",
    "                reconst_path.append(start_node)\n",
    "\n",
    "                reconst_path.reverse()\n",
    "\n",
    "                print('Path found: {}'.format(reconst_path))\n",
    "                return reconst_path\n",
    "\n",
    "            # for all neighbors of the current node do\n",
    "            for (m, weight) in self.get_neighbors(n):\n",
    "                # if the current node isn't in both open_list and closed_list\n",
    "                # add it to open_list and note n as it's parent\n",
    "                if m not in open_list and m not in closed_list:\n",
    "                    open_list.add(m)\n",
    "                    parents[m] = n\n",
    "                    g[m] = g[n] + weight\n",
    "                # otherwise, check if it's quicker to first visit n, then m\n",
    "                # and if it is, update parent data and g data\n",
    "                # and if the node was in the closed_list, move it to open_list\n",
    "                else:\n",
    "                    if g[m] > g[n] + weight:\n",
    "                        g[m] = g[n] + weight\n",
    "                        parents[m] = n\n",
    "\n",
    "                        if m in closed_list:\n",
    "                            closed_list.remove(m)\n",
    "                            open_list.add(m)\n",
    "\n",
    "            # remove n from the open_list, and add it to closed_list\n",
    "            # because all of his neighbors were inspected\n",
    "            open_list.remove(n)\n",
    "            closed_list.add(n)\n",
    "        print('Path does not exist!')\n",
    "        return None"
   ]
  },
  {
   "cell_type": "code",
   "execution_count": 125,
   "metadata": {
    "button": false,
    "new_sheet": false,
    "run_control": {
     "read_only": false
    }
   },
   "outputs": [
    {
     "name": "stdout",
     "output_type": "stream",
     "text": [
      "Path found: ['cobb', 'fulton', 'coweta']\n"
     ]
    },
    {
     "data": {
      "text/plain": [
       "['cobb', 'fulton', 'coweta']"
      ]
     },
     "execution_count": 125,
     "metadata": {},
     "output_type": "execute_result"
    }
   ],
   "source": [
    "graph1 = Graph(input_dict)\n",
    "graph1.a_star_algorithm('cobb', 'coweta')"
   ]
  },
  {
   "cell_type": "code",
   "execution_count": null,
   "metadata": {},
   "outputs": [],
   "source": []
  }
 ],
 "metadata": {
  "kernelspec": {
   "display_name": "Python 3",
   "language": "python",
   "name": "python3"
  },
  "language_info": {
   "codemirror_mode": {
    "name": "ipython",
    "version": 3
   },
   "file_extension": ".py",
   "mimetype": "text/x-python",
   "name": "python",
   "nbconvert_exporter": "python",
   "pygments_lexer": "ipython3",
   "version": "3.7.4"
  }
 },
 "nbformat": 4,
 "nbformat_minor": 4
}
